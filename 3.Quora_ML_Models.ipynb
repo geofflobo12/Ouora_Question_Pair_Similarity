{
 "cells": [
  {
   "cell_type": "code",
   "execution_count": 1,
   "metadata": {
    "colab": {},
    "colab_type": "code",
    "id": "6VXPfRp-tARR",
    "outputId": "6c27acaf-2c6a-467f-fd7a-68efce98e30b"
   },
   "outputs": [],
   "source": [
    "import pandas as pd\n",
    "import matplotlib.pyplot as plt\n",
    "import re\n",
    "import time\n",
    "import warnings\n",
    "import sqlite3\n",
    "#from sqlalchemy import create_engine # database connection\n",
    "import csv\n",
    "import os\n",
    "warnings.filterwarnings(\"ignore\")\n",
    "import datetime as dt\n",
    "import numpy as np\n",
    "from nltk.corpus import stopwords\n",
    "from sklearn.decomposition import TruncatedSVD\n",
    "from sklearn.preprocessing import normalize\n",
    "from sklearn.feature_extraction.text import CountVectorizer\n",
    "from sklearn.manifold import TSNE\n",
    "import seaborn as sns\n",
    "from sklearn.neighbors import KNeighborsClassifier\n",
    "from sklearn.metrics import confusion_matrix\n",
    "from sklearn.metrics.classification import accuracy_score, log_loss\n",
    "from sklearn.feature_extraction.text import TfidfVectorizer\n",
    "from collections import Counter\n",
    "from scipy.sparse import hstack\n",
    "from sklearn.multiclass import OneVsRestClassifier\n",
    "from sklearn.svm import SVC\n",
    "#from sklearn.cross_validation import StratifiedKFold \n",
    "from collections import Counter, defaultdict\n",
    "from sklearn.calibration import CalibratedClassifierCV\n",
    "from sklearn.naive_bayes import MultinomialNB\n",
    "from sklearn.naive_bayes import GaussianNB\n",
    "from sklearn.model_selection import train_test_split\n",
    "from sklearn.model_selection import GridSearchCV\n",
    "import math\n",
    "from sklearn.metrics import normalized_mutual_info_score\n",
    "from sklearn.ensemble import RandomForestClassifier\n",
    "\n",
    "\n",
    "\n",
    "from sklearn.model_selection import cross_val_score\n",
    "from sklearn.linear_model import SGDClassifier\n",
    "from mlxtend.classifier import StackingClassifier\n",
    "\n",
    "from sklearn import model_selection\n",
    "from sklearn.linear_model import LogisticRegression\n",
    "from sklearn.metrics import precision_recall_curve, auc, roc_curve"
   ]
  },
  {
   "cell_type": "code",
   "execution_count": 2,
   "metadata": {},
   "outputs": [],
   "source": [
    "quora = pd.read_csv('nlp_features_train.csv', encoding='latin-1')"
   ]
  },
  {
   "cell_type": "code",
   "execution_count": 3,
   "metadata": {},
   "outputs": [
    {
     "name": "stderr",
     "output_type": "stream",
     "text": [
      "[nltk_data] Error loading stopwords: <urlopen error [Errno 11001]\n",
      "[nltk_data]     getaddrinfo failed>\n"
     ]
    }
   ],
   "source": [
    "import nltk\n",
    "nltk.download('stopwords')\n",
    "stop_words = set(stopwords.words('english'))"
   ]
  },
  {
   "cell_type": "code",
   "execution_count": 4,
   "metadata": {},
   "outputs": [],
   "source": [
    "quora['question1'] = quora['question1'].map(str)\n",
    "quora['question2'] = quora['question2'].map(str)"
   ]
  },
  {
   "cell_type": "code",
   "execution_count": 5,
   "metadata": {},
   "outputs": [],
   "source": [
    "import re\n",
    "\n",
    "def decontracted(phrase):\n",
    "    # specific\n",
    "    phrase = re.sub(r\"won't\", \"will not\", phrase)\n",
    "    phrase = re.sub(r\"can\\'t\", \"can not\", phrase)\n",
    "\n",
    "    # general\n",
    "    phrase = re.sub(r\"n\\'t\", \" not\", phrase)\n",
    "    phrase = re.sub(r\"\\'re\", \" are\", phrase)\n",
    "    phrase = re.sub(r\"\\'s\", \" is\", phrase)\n",
    "    phrase = re.sub(r\"\\'d\", \" would\", phrase)\n",
    "    phrase = re.sub(r\"\\'ll\", \" will\", phrase)\n",
    "    phrase = re.sub(r\"\\'t\", \" not\", phrase)\n",
    "    phrase = re.sub(r\"\\'ve\", \" have\", phrase)\n",
    "    phrase = re.sub(r\"\\'m\", \" am\", phrase)\n",
    "    phrase = re.sub(r\"([0-9]+)000000\", r\"\\1m\", phrase)\n",
    "    phrase = re.sub(r\"([0-9]+)000\", r\"\\1k\", phrase)\n",
    "    return phrase"
   ]
  },
  {
   "cell_type": "code",
   "execution_count": 6,
   "metadata": {},
   "outputs": [
    {
     "name": "stderr",
     "output_type": "stream",
     "text": [
      "100%|███████████████████████████████| 404290/404290 [00:16<00:00, 24635.59it/s]\n"
     ]
    }
   ],
   "source": [
    "from tqdm import tqdm\n",
    "clean_question1 = []\n",
    "# tqdm is for printing the status bar\n",
    "for sentance in tqdm(quora['question1'].values):\n",
    "    sent = decontracted(sentance)\n",
    "    sent = sent.replace('\\\\r', ' ')\n",
    "    sent = sent.replace('\\\\\"', ' ')\n",
    "    sent = sent.replace('\\\\n', ' ')\n",
    "    sent = re.sub('[^A-Za-z0-9]+', ' ', sent)\n",
    "    # https://gist.github.com/sebleier/554280\n",
    "    sent = ' '.join(e for e in sent.split() if e.lower() not in stop_words)\n",
    "    clean_question1.append(sent.lower().strip())"
   ]
  },
  {
   "cell_type": "code",
   "execution_count": 7,
   "metadata": {},
   "outputs": [
    {
     "name": "stderr",
     "output_type": "stream",
     "text": [
      "100%|███████████████████████████████| 404290/404290 [00:16<00:00, 24051.94it/s]\n"
     ]
    }
   ],
   "source": [
    "from tqdm import tqdm\n",
    "clean_question2 = []\n",
    "# tqdm is for printing the status bar\n",
    "for sentance in tqdm(quora['question2'].values):\n",
    "    sent = decontracted(sentance)\n",
    "    sent = sent.replace('\\\\r', ' ')\n",
    "    sent = sent.replace('\\\\\"', ' ')\n",
    "    sent = sent.replace('\\\\n', ' ')\n",
    "    sent = re.sub('[^A-Za-z0-9]+', ' ', sent)\n",
    "    # https://gist.github.com/sebleier/554280\n",
    "    sent = ' '.join(e for e in sent.split() if e.lower() not in stop_words)\n",
    "    clean_question2.append(sent.lower().strip())"
   ]
  },
  {
   "cell_type": "code",
   "execution_count": 8,
   "metadata": {},
   "outputs": [],
   "source": [
    "quora['clean_question1'] = clean_question1\n",
    "quora['clean_question2'] = clean_question2"
   ]
  },
  {
   "cell_type": "code",
   "execution_count": 9,
   "metadata": {},
   "outputs": [],
   "source": [
    "quora_data = quora.sample(n=100000)\n",
    "X = quora_data.drop(['is_duplicate'], axis=1)\n",
    "Y = quora_data['is_duplicate']"
   ]
  },
  {
   "cell_type": "code",
   "execution_count": 10,
   "metadata": {},
   "outputs": [
    {
     "name": "stdout",
     "output_type": "stream",
     "text": [
      "(70000, 22) (70000,) (30000, 22) (30000,)\n"
     ]
    }
   ],
   "source": [
    "from sklearn.model_selection import train_test_split\n",
    "x_tr, x_test, y_tr, y_test = train_test_split(X, Y, test_size=0.3, shuffle=False)\n",
    "print(x_tr.shape, y_tr.shape, x_test.shape, y_test.shape)"
   ]
  },
  {
   "cell_type": "code",
   "execution_count": 11,
   "metadata": {},
   "outputs": [],
   "source": [
    "from sklearn.preprocessing import StandardScaler\n",
    "scaled_features_tr = x_tr.copy()\n",
    "scaled_features_test = x_test.copy()\n",
    "col_names = ['cwc_min', 'cwc_max', 'csc_min', 'csc_max' , 'ctc_min' , 'ctc_max' , 'last_word_eq', 'first_word_eq' , 'abs_len_diff' , 'mean_len' , 'token_set_ratio' , 'token_sort_ratio' ,  'fuzz_ratio' , 'fuzz_partial_ratio' , 'longest_substr_ratio']\n",
    "features_tr = scaled_features_tr[col_names]\n",
    "features_test = scaled_features_test[col_names]\n",
    "scaler = StandardScaler().fit(features_tr.values)\n",
    "x_tr_num = scaler.transform(features_tr.values)\n",
    "x_test_num = scaler.transform(features_test.values)"
   ]
  },
  {
   "cell_type": "code",
   "execution_count": 12,
   "metadata": {},
   "outputs": [],
   "source": [
    "from sklearn.feature_extraction.text import TfidfVectorizer\n",
    "tf = TfidfVectorizer(ngram_range=(1,8))\n",
    "x_tr_q1_tfidf = tf.fit_transform(x_tr['clean_question1'].values)\n",
    "x_test_q1_tfidf = tf.transform(x_test['clean_question1'].values)"
   ]
  },
  {
   "cell_type": "code",
   "execution_count": 13,
   "metadata": {},
   "outputs": [],
   "source": [
    "from sklearn.feature_extraction.text import TfidfVectorizer\n",
    "tf = TfidfVectorizer(ngram_range=(1,8))\n",
    "x_tr_q2_tfidf = tf.fit_transform(x_tr['clean_question2'].values)\n",
    "x_test_q2_tfidf = tf.transform(x_test['clean_question2'].values)"
   ]
  },
  {
   "cell_type": "code",
   "execution_count": 14,
   "metadata": {},
   "outputs": [],
   "source": [
    "from scipy.sparse import hstack\n",
    "x_tr_tfidf = hstack((x_tr_q1_tfidf, x_tr_q2_tfidf, x_tr_num))\n",
    "x_test_tfidf = hstack((x_test_q1_tfidf, x_test_q2_tfidf, x_test_num))"
   ]
  },
  {
   "cell_type": "code",
   "execution_count": 17,
   "metadata": {
    "colab": {},
    "colab_type": "code",
    "id": "XfxcPT6jtASg"
   },
   "outputs": [],
   "source": [
    "# This function plots the confusion matrices given y_i, y_i_hat.\n",
    "def plot_confusion_matrix(test_y, predict_y):\n",
    "    C = confusion_matrix(test_y, predict_y)\n",
    "    # C = 9,9 matrix, each cell (i,j) represents number of points of class i are predicted class j\n",
    "    \n",
    "    A =(((C.T)/(C.sum(axis=1))).T)\n",
    "    #divid each element of the confusion matrix with the sum of elements in that column\n",
    "    \n",
    "    # C = [[1, 2],\n",
    "    #     [3, 4]]\n",
    "    # C.T = [[1, 3],\n",
    "    #        [2, 4]]\n",
    "    # C.sum(axis = 1)  axis=0 corresonds to columns and axis=1 corresponds to rows in two diamensional array\n",
    "    # C.sum(axix =1) = [[3, 7]]\n",
    "    # ((C.T)/(C.sum(axis=1))) = [[1/3, 3/7]\n",
    "    #                           [2/3, 4/7]]\n",
    "\n",
    "    # ((C.T)/(C.sum(axis=1))).T = [[1/3, 2/3]\n",
    "    #                           [3/7, 4/7]]\n",
    "    # sum of row elements = 1\n",
    "    \n",
    "    B =(C/C.sum(axis=0))\n",
    "    #divid each element of the confusion matrix with the sum of elements in that row\n",
    "    # C = [[1, 2],\n",
    "    #     [3, 4]]\n",
    "    # C.sum(axis = 0)  axis=0 corresonds to columns and axis=1 corresponds to rows in two diamensional array\n",
    "    # C.sum(axix =0) = [[4, 6]]\n",
    "    # (C/C.sum(axis=0)) = [[1/4, 2/6],\n",
    "    #                      [3/4, 4/6]] \n",
    "    plt.figure(figsize=(20,4))\n",
    "    \n",
    "    labels = [0,1]\n",
    "    # representing A in heatmap format\n",
    "    cmap=sns.light_palette(\"blue\")\n",
    "    plt.subplot(1, 3, 1)\n",
    "    sns.heatmap(C, annot=True, cmap=cmap, fmt=\".3f\", xticklabels=labels, yticklabels=labels)\n",
    "    plt.xlabel('Predicted Class')\n",
    "    plt.ylabel('Original Class')\n",
    "    plt.title(\"Confusion matrix\")\n",
    "    \n",
    "    plt.subplot(1, 3, 2)\n",
    "    sns.heatmap(B, annot=True, cmap=cmap, fmt=\".3f\", xticklabels=labels, yticklabels=labels)\n",
    "    plt.xlabel('Predicted Class')\n",
    "    plt.ylabel('Original Class')\n",
    "    plt.title(\"Precision matrix\")\n",
    "    \n",
    "    plt.subplot(1, 3, 3)\n",
    "    # representing B in heatmap format\n",
    "    sns.heatmap(A, annot=True, cmap=cmap, fmt=\".3f\", xticklabels=labels, yticklabels=labels)\n",
    "    plt.xlabel('Predicted Class')\n",
    "    plt.ylabel('Original Class')\n",
    "    plt.title(\"Recall matrix\")\n",
    "    \n",
    "    plt.show()"
   ]
  },
  {
   "cell_type": "markdown",
   "metadata": {
    "colab_type": "text",
    "id": "UStQJ5F_tASk"
   },
   "source": [
    "<h2> Building a random model (Finding worst-case log-loss) </h2>"
   ]
  },
  {
   "cell_type": "code",
   "execution_count": 0,
   "metadata": {
    "colab": {},
    "colab_type": "code",
    "id": "qwMDqcU7tASl",
    "outputId": "c1e90d53-25ec-445b-e33a-299538520e32"
   },
   "outputs": [
    {
     "name": "stdout",
     "output_type": "stream",
     "text": [
      "Log loss on Test Data using Random Model 0.887242646958\n"
     ]
    },
    {
     "data": {
      "image/png": "[encoded data removed]",
      "text/plain": [
       "<matplotlib.figure.Figure at 0x2567c619c18>"
      ]
     },
     "metadata": {
      "tags": []
     },
     "output_type": "display_data"
    }
   ],
   "source": [
    "# we need to generate 9 numbers and the sum of numbers should be 1\n",
    "# one solution is to genarate 9 numbers and divide each of the numbers by their sum\n",
    "# ref: https://stackoverflow.com/a/18662466/4084039\n",
    "# we create a output array that has exactly same size as the CV data\n",
    "predicted_y = np.zeros((test_len,2))\n",
    "for i in range(test_len):\n",
    "    rand_probs = np.random.rand(1,2)\n",
    "    predicted_y[i] = ((rand_probs/sum(sum(rand_probs)))[0])\n",
    "print(\"Log loss on Test Data using Random Model\",log_loss(y_test, predicted_y, eps=1e-15))\n",
    "\n",
    "predicted_y =np.argmax(predicted_y, axis=1)\n",
    "plot_confusion_matrix(y_test, predicted_y)"
   ]
  },
  {
   "cell_type": "markdown",
   "metadata": {
    "colab_type": "text",
    "id": "YgY29g_qtASq"
   },
   "source": [
    "<h2> Logistic Regression TF-IDF features and hyperparameter tuning </h2>"
   ]
  },
  {
   "cell_type": "code",
   "execution_count": 15,
   "metadata": {},
   "outputs": [
    {
     "name": "stdout",
     "output_type": "stream",
     "text": [
      "For values of C =  0.0001 The log loss is: 0.5835525885144449\n",
      "For values of C =  0.001 The log loss is: 0.5620200524067976\n",
      "For values of C =  0.01 The log loss is: 0.542547396842715\n",
      "For values of C =  0.1 The log loss is: 0.4923712947165579\n",
      "For values of C =  1 The log loss is: 0.44412360730622563\n",
      "For values of C =  10 The log loss is: 0.4567197785177261\n",
      "For values of C =  100 The log loss is: 0.5632584507116463\n",
      "The optimal C is  1\n"
     ]
    },
    {
     "data": {
      "image/png": "[encoded data removed]",
      "text/plain": [
       "<Figure size 432x288 with 1 Axes>"
      ]
     },
     "metadata": {
      "needs_background": "light"
     },
     "output_type": "display_data"
    }
   ],
   "source": [
    "train_loss_tfidf = []\n",
    "test_loss_tfidf = []\n",
    "C = [0.0001, 0.001, 0.01, 0.1, 1, 10, 100]\n",
    "for i in C :\n",
    "         LR = LogisticRegression(C=i, class_weight='balanced', random_state=42)\n",
    "         LR.fit(x_tr_tfidf, y_tr)\n",
    "         y_train_pred = LR.predict_proba(x_tr_tfidf)[:,1]\n",
    "         y_test_pred = LR.predict_proba(x_test_tfidf)[:,1]\n",
    "         train_loss_tfidf.append(log_loss(y_tr, y_train_pred, eps=1e-15))\n",
    "         test_loss_tfidf.append(log_loss(y_test, y_test_pred, eps=1e-15))\n",
    "         print('For values of C = ', i, \"The log loss is:\",log_loss(y_test, y_test_pred, labels=LR.classes_, eps=1e-15))   \n",
    "         \n",
    "optimal_C_tfidf = C[test_loss_tfidf.index(min(test_loss_tfidf))]\n",
    "print('The optimal C is ', optimal_C_tfidf)\n",
    "\n",
    "plt.plot(C, train_loss_tfidf, label='Train AUC')\n",
    "plt.plot(C, test_loss_tfidf, label='CV AUC')\n",
    "plt.legend()\n",
    "plt.xlabel('C: Hyperparameter')\n",
    "plt.ylabel('Logloss')\n",
    "plt.xscale('log')\n",
    "plt.title('Logloss Plot')\n",
    "plt.show()"
   ]
  },
  {
   "cell_type": "code",
   "execution_count": 21,
   "metadata": {},
   "outputs": [
    {
     "name": "stdout",
     "output_type": "stream",
     "text": [
      "For values of best alpha =  1 The train log loss is: 0.2747449267765691\n",
      "For values of best alpha =  1 The test log loss is: 0.44412360730622563\n",
      "Total number of data points : 30000\n"
     ]
    },
    {
     "data": {
      "image/png": "[encoded data removed]",
      "text/plain": [
       "<Figure size 1440x288 with 6 Axes>"
      ]
     },
     "metadata": {
      "needs_background": "light"
     },
     "output_type": "display_data"
    }
   ],
   "source": [
    "LR = LogisticRegression(C=optimal_C_tfidf, class_weight='balanced')\n",
    "LR.fit(x_tr_tfidf, y_tr)\n",
    "\n",
    "predict_y_tr = LR.predict_proba(x_tr_tfidf)\n",
    "print('For values of best alpha = ', optimal_C_tfidf, \"The train log loss is:\",log_loss(y_tr, predict_y_tr, labels=LR.classes_, eps=1e-15))\n",
    "predict_y_test = LR.predict_proba(x_test_tfidf)\n",
    "print('For values of best alpha = ', optimal_C_tfidf, \"The test log loss is:\",log_loss(y_test, predict_y_test, labels=LR.classes_, eps=1e-15))\n",
    "predicted_y =np.argmax(predict_y_test,axis=1)\n",
    "print(\"Total number of data points :\", len(predicted_y))\n",
    "plot_confusion_matrix(y_test, predicted_y)"
   ]
  },
  {
   "cell_type": "markdown",
   "metadata": {},
   "source": [
    "<h2> Applying Linear SVM with TF-IDF features </h2>"
   ]
  },
  {
   "cell_type": "code",
   "execution_count": 23,
   "metadata": {},
   "outputs": [
    {
     "name": "stdout",
     "output_type": "stream",
     "text": [
      "For values of C =  1e-05 The log loss is: 0.5703330721769319\n",
      "For values of C =  0.0001 The log loss is: 0.47596379861409444\n",
      "For values of C =  0.001 The log loss is: 0.49553033837649096\n",
      "For values of C =  0.01 The log loss is: 0.5300993886765378\n",
      "For values of C =  0.1 The log loss is: 0.542891096910455\n",
      "For values of C =  1 The log loss is: 0.5615783607982358\n",
      "For values of C =  10 The log loss is: 0.5727933846576716\n",
      "For values of C =  100 The log loss is: 0.5727802042439187\n",
      "The optimal C is  0.0001\n"
     ]
    },
    {
     "data": {
      "image/png": "[encoded data removed]",
      "text/plain": [
       "<Figure size 432x288 with 1 Axes>"
      ]
     },
     "metadata": {
      "needs_background": "light"
     },
     "output_type": "display_data"
    }
   ],
   "source": [
    "train_loss_tfidf_svm = []\n",
    "test_loss_tfidf_svm = []\n",
    "C = [0.00001, 0.0001, 0.001, 0.01, 0.1, 1, 10, 100]\n",
    "for i in C :\n",
    "         lin_svm = SGDClassifier(alpha=i, class_weight='balanced', loss='hinge', random_state=42)\n",
    "         lin_svm.fit(x_tr_tfidf, y_tr)\n",
    "         svm = CalibratedClassifierCV(lin_svm, cv='prefit', method='sigmoid')\n",
    "         svm.fit(x_tr_tfidf, y_tr)\n",
    "         y_train_pred = svm.predict_proba(x_tr_tfidf)[:,1]\n",
    "         y_test_pred = svm.predict_proba(x_test_tfidf)[:,1]\n",
    "         train_loss_tfidf_svm.append(log_loss(y_tr, y_train_pred, eps=1e-15))\n",
    "         test_loss_tfidf_svm.append(log_loss(y_test, y_test_pred, eps=1e-15))\n",
    "         print('For values of C = ', i, \"The log loss is:\",log_loss(y_test, y_test_pred, labels=svm.classes_, eps=1e-15))   \n",
    "         \n",
    "optimal_C_tfidf_svm = C[test_loss_tfidf_svm.index(min(test_loss_tfidf_svm))]\n",
    "print('The optimal C is ', optimal_C_tfidf_svm)\n",
    "\n",
    "plt.plot(C, train_loss_tfidf_svm, label='Train AUC')\n",
    "plt.plot(C, test_loss_tfidf_svm, label='CV AUC')\n",
    "plt.legend()\n",
    "plt.xlabel('C: Hyperparameter')\n",
    "plt.ylabel('Logloss')\n",
    "plt.xscale('log')\n",
    "plt.title('Logloss Plot')\n",
    "plt.show()"
   ]
  },
  {
   "cell_type": "code",
   "execution_count": 24,
   "metadata": {},
   "outputs": [
    {
     "name": "stdout",
     "output_type": "stream",
     "text": [
      "For values of best alpha =  0.0001 The train log loss is: 0.380419457081997\n",
      "For values of best alpha =  0.0001 The test log loss is: 0.47596379861409444\n",
      "Total number of data points : 30000\n"
     ]
    },
    {
     "data": {
      "image/png": "[encoded data removed]",
      "text/plain": [
       "<Figure size 1440x288 with 6 Axes>"
      ]
     },
     "metadata": {
      "needs_background": "light"
     },
     "output_type": "display_data"
    }
   ],
   "source": [
    "lin_svm = SGDClassifier(alpha=optimal_C_tfidf_svm, class_weight='balanced', loss='hinge', random_state=42)\n",
    "lin_svm.fit(x_tr_tfidf, y_tr)\n",
    "svm = CalibratedClassifierCV(lin_svm, cv='prefit', method='sigmoid')\n",
    "svm.fit(x_tr_tfidf, y_tr)\n",
    "\n",
    "predict_y_tr_svm = svm.predict_proba(x_tr_tfidf)\n",
    "print('For values of best alpha = ', optimal_C_tfidf_svm, \"The train log loss is:\",log_loss(y_tr, predict_y_tr_svm, labels=svm.classes_, eps=1e-15))\n",
    "predict_y_test_svm = svm.predict_proba(x_test_tfidf)\n",
    "print('For values of best alpha = ', optimal_C_tfidf_svm, \"The test log loss is:\",log_loss(y_test, predict_y_test_svm, labels=svm.classes_, eps=1e-15))\n",
    "predicted_y_svm =np.argmax(predict_y_test_svm,axis=1)\n",
    "print(\"Total number of data points :\", len(predicted_y_svm))\n",
    "plot_confusion_matrix(y_test, predicted_y_svm)"
   ]
  },
  {
   "cell_type": "markdown",
   "metadata": {},
   "source": [
    "<h2> Hyperparameter tune XgBoost with TF-IDF weighted W2V features using RandomSearch to reduce the log-loss. </h2>"
   ]
  },
  {
   "cell_type": "code",
   "execution_count": 25,
   "metadata": {},
   "outputs": [],
   "source": [
    "# merge texts\n",
    "questions = list(x_tr['question1']) + list(x_tr['question2'])\n",
    "\n",
    "tfidf = TfidfVectorizer(lowercase=False)\n",
    "tfidf.fit_transform(questions)\n",
    "\n",
    "# dict key:word and value:tf-idf score\n",
    "word2tfidf = dict(zip(tfidf.get_feature_names(), tfidf.idf_))"
   ]
  },
  {
   "cell_type": "code",
   "execution_count": 30,
   "metadata": {},
   "outputs": [],
   "source": [
    "# en_vectors_web_lg, which includes over 1 million unique vectors.\n",
    "import spacy\n",
    "nlp = spacy.load('en_core_web_sm')\n",
    "\n",
    "vecs1_tr = []\n",
    "# https://github.com/noamraph/tqdm\n",
    "# tqdm is used to print the progress bar\n",
    "for qu1 in list(x_tr['question1']):\n",
    "    doc1 = nlp(qu1) \n",
    "    # 384 is the number of dimensions of vectors \n",
    "    mean_vec1 = np.zeros([len(doc1), len(doc1[0].vector)])\n",
    "    for word1 in doc1:\n",
    "        # word2vec\n",
    "        vec1 = word1.vector\n",
    "        # fetch df score\n",
    "        try:\n",
    "            idf = word2tfidf[str(word1)]\n",
    "        except:\n",
    "            idf = 0\n",
    "        # compute final vec\n",
    "        mean_vec1 += vec1 * idf\n",
    "    mean_vec1 = mean_vec1.mean(axis=0)\n",
    "    vecs1_tr.append(mean_vec1)\n",
    "\n",
    "x_tr_q1_tfw2v = np.array(vecs1_tr)"
   ]
  },
  {
   "cell_type": "code",
   "execution_count": 31,
   "metadata": {},
   "outputs": [],
   "source": [
    "vecs1_test = []\n",
    "# https://github.com/noamraph/tqdm\n",
    "# tqdm is used to print the progress bar\n",
    "for qu1 in list(x_test['question1']):\n",
    "    doc1 = nlp(qu1) \n",
    "    # 384 is the number of dimensions of vectors \n",
    "    mean_vec1 = np.zeros([len(doc1), len(doc1[0].vector)])\n",
    "    for word1 in doc1:\n",
    "        # word2vec\n",
    "        vec1 = word1.vector\n",
    "        # fetch df score\n",
    "        try:\n",
    "            idf = word2tfidf[str(word1)]\n",
    "        except:\n",
    "            idf = 0\n",
    "        # compute final vec\n",
    "        mean_vec1 += vec1 * idf\n",
    "    mean_vec1 = mean_vec1.mean(axis=0)\n",
    "    vecs1_test.append(mean_vec1)\n",
    "\n",
    "x_test_q1_tfw2v = np.array(vecs1_test)"
   ]
  },
  {
   "cell_type": "code",
   "execution_count": 33,
   "metadata": {},
   "outputs": [],
   "source": [
    "vecs2_tr = []\n",
    "# https://github.com/noamraph/tqdm\n",
    "# tqdm is used to print the progress bar\n",
    "for qu1 in list(x_tr['question2']):\n",
    "    doc1 = nlp(qu1) \n",
    "    # 384 is the number of dimensions of vectors \n",
    "    mean_vec1 = np.zeros([len(doc1), len(doc1[0].vector)])\n",
    "    for word1 in doc1:\n",
    "        # word2vec\n",
    "        vec1 = word1.vector\n",
    "        # fetch df score\n",
    "        try:\n",
    "            idf = word2tfidf[str(word1)]\n",
    "        except:\n",
    "            idf = 0\n",
    "        # compute final vec\n",
    "        mean_vec1 += vec1 * idf\n",
    "    mean_vec1 = mean_vec1.mean(axis=0)\n",
    "    vecs2_tr.append(mean_vec1)\n",
    "\n",
    "x_tr_q2_tfw2v = np.array(vecs2_tr)"
   ]
  },
  {
   "cell_type": "code",
   "execution_count": 34,
   "metadata": {},
   "outputs": [],
   "source": [
    "vecs2_test = []\n",
    "# https://github.com/noamraph/tqdm\n",
    "# tqdm is used to print the progress bar\n",
    "for qu1 in list(x_test['question2']):\n",
    "    doc1 = nlp(qu1) \n",
    "    # 384 is the number of dimensions of vectors \n",
    "    mean_vec1 = np.zeros([len(doc1), len(doc1[0].vector)])\n",
    "    for word1 in doc1:\n",
    "        # word2vec\n",
    "        vec1 = word1.vector\n",
    "        # fetch df score\n",
    "        try:\n",
    "            idf = word2tfidf[str(word1)]\n",
    "        except:\n",
    "            idf = 0\n",
    "        # compute final vec\n",
    "        mean_vec1 += vec1 * idf\n",
    "    mean_vec1 = mean_vec1.mean(axis=0)\n",
    "    vecs2_test.append(mean_vec1)\n",
    "\n",
    "x_test_q2_tfw2v = np.array(vecs2_test)"
   ]
  },
  {
   "cell_type": "code",
   "execution_count": 36,
   "metadata": {},
   "outputs": [],
   "source": [
    "x_tr_tfw2v = np.hstack((x_tr_num, x_tr_q1_tfw2v, x_tr_q2_tfw2v))\n",
    "x_test_tfw2v = np.hstack((x_test_num, x_test_q1_tfw2v, x_test_q2_tfw2v))"
   ]
  },
  {
   "cell_type": "markdown",
   "metadata": {},
   "source": [
    "<h3> Applying Random Search to the XGBoost model </h3>"
   ]
  },
  {
   "cell_type": "code",
   "execution_count": 57,
   "metadata": {},
   "outputs": [
    {
     "data": {
      "text/plain": [
       "RandomizedSearchCV(cv=3, error_score='raise-deprecating',\n",
       "          estimator=XGBClassifier(base_score=0.5, booster='gbtree', colsample_bylevel=1,\n",
       "       colsample_bytree=1, gamma=0, learning_rate=0.1, max_delta_step=0,\n",
       "       max_depth=3, min_child_weight=1, missing=None, n_estimators=100,\n",
       "       n_jobs=1, nthread=None, objective='binary:logistic', random_state=0,\n",
       "       reg_alpha=0, reg_lambda=1, scale_pos_weight=1, seed=None,\n",
       "       silent=True, subsample=1),\n",
       "          fit_params=None, iid='warn', n_iter=10, n_jobs=None,\n",
       "          param_distributions={'n_estimators': [10, 50, 75, 100, 500, 1000], 'max_depth': [2, 3, 5, 10, 20]},\n",
       "          pre_dispatch='2*n_jobs', random_state=None, refit=True,\n",
       "          return_train_score='warn', scoring='neg_log_loss', verbose=0)"
      ]
     },
     "execution_count": 57,
     "metadata": {},
     "output_type": "execute_result"
    }
   ],
   "source": [
    "from sklearn.model_selection import RandomizedSearchCV\n",
    "from sklearn.metrics import make_scorer\n",
    "import xgboost as xgb\n",
    "XGB = xgb.XGBClassifier()\n",
    "parameters = {'n_estimators':[10,50,75,100,500,1000], 'max_depth':[2,3,5,10,20]}\n",
    "rsXGB = RandomizedSearchCV(XGB, parameters, cv=3, scoring='neg_log_loss')\n",
    "rsXGB.fit(x_tr_tfw2v, y_tr)"
   ]
  },
  {
   "cell_type": "code",
   "execution_count": 63,
   "metadata": {},
   "outputs": [
    {
     "data": {
      "text/plain": [
       "{'n_estimators': 500, 'max_depth': 5}"
      ]
     },
     "execution_count": 63,
     "metadata": {},
     "output_type": "execute_result"
    }
   ],
   "source": [
    "rsXGB.best_params_"
   ]
  },
  {
   "cell_type": "code",
   "execution_count": 67,
   "metadata": {},
   "outputs": [
    {
     "name": "stdout",
     "output_type": "stream",
     "text": [
      "The train log loss is: 0.2826742965175827\n",
      "The test log loss is: 0.4181148340205307\n",
      "Total number of data points : 30000\n"
     ]
    },
    {
     "data": {
      "image/png": "[encoded data removed]",
      "text/plain": [
       "<Figure size 1440x288 with 6 Axes>"
      ]
     },
     "metadata": {
      "needs_background": "light"
     },
     "output_type": "display_data"
    }
   ],
   "source": [
    "xgb_final = xgb.XGBClassifier(n_estimators=500, max_depth=5)\n",
    "#xgb_final = LogisticRegression(C=1)\n",
    "xgb_final.fit(x_tr_tfw2v, y_tr)\n",
    "\n",
    "predict_y_tr_xgb = xgb_final.predict_proba(x_tr_tfw2v)\n",
    "print(\"The train log loss is:\",log_loss(y_tr, predict_y_tr_xgb, eps=1e-15))\n",
    "predict_y_test_xgb = xgb_final.predict_proba(x_test_tfw2v)\n",
    "print(\"The test log loss is:\",log_loss(y_test, predict_y_test_xgb, eps=1e-15))\n",
    "predicted_y_xgb = np.argmax(predict_y_test_xgb,axis=1)\n",
    "print(\"Total number of data points :\", len(predicted_y_xgb))\n",
    "plot_confusion_matrix(y_test, predicted_y)"
   ]
  },
  {
   "cell_type": "markdown",
   "metadata": {},
   "source": [
    "# Summary"
   ]
  },
  {
   "cell_type": "markdown",
   "metadata": {},
   "source": [
    "**Logistic Regression model with TF-IDF features gave a TPR and TNR of 82% and 77% while the Linear SVM model with TF-IDF features gave TPR and TNR of 70% and 80%.**\n",
    "\n",
    "**XGBoost model after hyperparameter tuning gave the best results and reduced the logloss from 0.45 to 0.41.**"
   ]
  }
 ],
 "metadata": {
  "colab": {
   "name": "4.ML_models.ipynb",
   "provenance": [],
   "version": "0.3.2"
  },
  "kernelspec": {
   "display_name": "Python 3",
   "language": "python",
   "name": "python3"
  },
  "language_info": {
   "codemirror_mode": {
    "name": "ipython",
    "version": 3
   },
   "file_extension": ".py",
   "mimetype": "text/x-python",
   "name": "python",
   "nbconvert_exporter": "python",
   "pygments_lexer": "ipython3",
   "version": "3.6.3rc1"
  }
 },
 "nbformat": 4,
 "nbformat_minor": 1
}
